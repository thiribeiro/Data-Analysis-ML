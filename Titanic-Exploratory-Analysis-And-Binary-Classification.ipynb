{
  "cells": [
    {
      "metadata": {
        "_uuid": "b3778cd04322c871ade6b39e2a4a3c676c1937a7",
        "_cell_guid": "8305b33e-beeb-4a6b-adab-d3b3927839d5"
      },
      "cell_type": "markdown",
      "source": "# Titanic Data Analysis\n"
    },
    {
      "metadata": {
        "_uuid": "fcedf406d223b87856017cddef6d6b1222393f66",
        "_cell_guid": "45051a4b-53d7-4c59-bfec-0ac5597ce543",
        "collapsed": true
      },
      "cell_type": "markdown",
      "source": "In this challenge, we ask you to complete the analysis of what sorts of people were likely to survive. \nIn particular, we ask you to apply the tools of machine learning to predict which passengers survived the tragedy.\n\nPractice Skills:\n - Binary classification ===> Logistic Regression, LDA...\n - Python and R basics\n\nGoal:\n - It is your job to predict if a passenger survived the sinking of the Titanic or not. \n - For each PassengerId in the test set, you must predict a 0 or 1 value for the Survived variable.\n\nMetric:\n - Your score is the percentage of passengers you correctly predict. This is known simply as \"accuracy”.\n \n \n ************* Please Upvote if this Kernel was useful to you! ********************"
    },
    {
      "metadata": {
        "_uuid": "8302b0a017b8fa2a6d16a5ab4fffb2a03e10d9a2",
        "_cell_guid": "7eaf823e-4d93-4459-ae1c-73c86ebf9e56"
      },
      "cell_type": "markdown",
      "source": "## Data Analysis "
    },
    {
      "metadata": {
        "_uuid": "de99ed892efc6c1504dab73908091ebc2424f4b1",
        "_cell_guid": "172c5adc-750c-4e2b-8285-7716f50cd914",
        "collapsed": true,
        "trusted": false
      },
      "cell_type": "code",
      "source": "#Importing Data Analysis Libs\nimport pandas as pd\nimport numpy as np\nimport warnings\nwarnings.filterwarnings('ignore')",
      "execution_count": null,
      "outputs": []
    },
    {
      "metadata": {
        "_uuid": "359f7976c38b4c9abb8bfc354438f272f50448ac",
        "_cell_guid": "5b2588f9-f893-4549-8991-e406fc41bc40",
        "trusted": false,
        "collapsed": true
      },
      "cell_type": "code",
      "source": "#Getting .csv files \ndf = pd.read_csv('../input/train.csv')\ndfTest = pd.read_csv('../input/test.csv')",
      "execution_count": null,
      "outputs": []
    },
    {
      "metadata": {
        "_uuid": "7798506f3244f3885c874e4f2910a2fdb8c1fece",
        "_cell_guid": "6f235c57-ae8c-4d25-a01a-637f8e9feccc"
      },
      "cell_type": "markdown",
      "source": "### Checking Dataframe ..."
    },
    {
      "metadata": {
        "_uuid": "b07874c4a460f8ea9842d346425d255856cf233c",
        "_cell_guid": "61e6a3b2-7af9-4004-bb73-71cec0b586ac",
        "trusted": false,
        "collapsed": true
      },
      "cell_type": "code",
      "source": "#Checking the first lines\ndf.head()",
      "execution_count": null,
      "outputs": []
    },
    {
      "metadata": {
        "_uuid": "efd89c731289ac241e62a6add6e99b5e4e796449",
        "_cell_guid": "d0c1ee0e-5d3d-4f8a-a786-ee7b14ec59be",
        "trusted": false,
        "collapsed": true
      },
      "cell_type": "code",
      "source": "#Data Types\ndf.dtypes",
      "execution_count": null,
      "outputs": []
    },
    {
      "metadata": {
        "_uuid": "d44f67a8e5e8a9f74a9a53dbf854d1ae7ac92187",
        "_cell_guid": "b302ab74-6f5b-4449-a978-c27666860114",
        "trusted": false,
        "collapsed": true
      },
      "cell_type": "code",
      "source": "#Checking the shape of the dataframe\ndf.shape",
      "execution_count": null,
      "outputs": []
    },
    {
      "metadata": {
        "_uuid": "65f71645f49a3fb3c61d86040a56471d6d83c0cb",
        "_cell_guid": "d8b6b443-4353-4660-8b2f-6bf7183a1a19",
        "trusted": false,
        "collapsed": true
      },
      "cell_type": "code",
      "source": "dfTest.head(3)",
      "execution_count": null,
      "outputs": []
    },
    {
      "metadata": {
        "_uuid": "af454bc8a8a74817d4dd411a5a6b0666bce516ae",
        "_cell_guid": "3633c2c8-7232-47f4-b385-9f7d7d9dcfef",
        "trusted": false,
        "collapsed": true
      },
      "cell_type": "code",
      "source": "dfTest.shape",
      "execution_count": null,
      "outputs": []
    },
    {
      "metadata": {
        "_uuid": "663207ae46e5dcaa786a7a3063950a64aa55070c",
        "_cell_guid": "71cab413-4421-4c1f-ab95-c81dcbd466d2",
        "trusted": false,
        "collapsed": true
      },
      "cell_type": "code",
      "source": "#Statistic Summary\ndf.describe()",
      "execution_count": null,
      "outputs": []
    },
    {
      "metadata": {
        "_uuid": "0986d3153a37dfeb6b9c54325febb4129299e84b",
        "_cell_guid": "1227c848-ca40-4180-8aca-6488931432db",
        "trusted": false,
        "collapsed": true
      },
      "cell_type": "code",
      "source": "dfTest.describe()",
      "execution_count": null,
      "outputs": []
    },
    {
      "metadata": {
        "_uuid": "b871b0f224da92f98577dddd9da7eed129883826",
        "_cell_guid": "5c23572b-876b-41a7-8f53-bf22bd96d79c"
      },
      "cell_type": "markdown",
      "source": " Column Age doesn't have all values "
    },
    {
      "metadata": {
        "_uuid": "1798b701c3f486947d325c7249e0e7d7f01dd9fa",
        "_cell_guid": "44884d46-dea4-40c0-8c1c-eaeaa2eecbef",
        "trusted": false,
        "collapsed": true
      },
      "cell_type": "code",
      "source": "#Cheking columns with null values in Dataframe\ndf.isnull().any()",
      "execution_count": null,
      "outputs": []
    },
    {
      "metadata": {
        "_uuid": "a3a94bc8825c7de794cefa636577fcd6048cf6d0",
        "_cell_guid": "02e04cc9-88ef-4ec1-aabc-8fe4cda8ae1a",
        "trusted": false,
        "collapsed": true
      },
      "cell_type": "code",
      "source": "# Pclass column distribution\ndf.groupby('Pclass').size()",
      "execution_count": null,
      "outputs": []
    },
    {
      "metadata": {
        "_uuid": "aca5af26f868b0a99d2ac6e2dee45c06ec0a7b67",
        "_cell_guid": "2761b266-ba6f-4485-b674-9249e096e057"
      },
      "cell_type": "markdown",
      "source": "### Dataframe Transformations..."
    },
    {
      "metadata": {
        "_uuid": "176f33add674953af999834620f6a428bb30a27c",
        "_cell_guid": "bf222df2-1089-47b9-902e-e2fae82f3c21",
        "collapsed": true,
        "trusted": false
      },
      "cell_type": "code",
      "source": "#Copying Dataframe \ndfT = df",
      "execution_count": null,
      "outputs": []
    },
    {
      "metadata": {
        "_uuid": "26fae32c80206ac92e910a8097a2be0acad99961",
        "_cell_guid": "e110cea5-23af-44c8-91ea-a9ab74ea3238",
        "trusted": false,
        "collapsed": true
      },
      "cell_type": "code",
      "source": "#Checking Unique values from Sex Column\nsex_values = df.drop_duplicates('Sex')\nprint(sex_values['Sex'])",
      "execution_count": null,
      "outputs": []
    },
    {
      "metadata": {
        "_uuid": "a0d929fee9badf1bafa22deae928977a28c5a14a",
        "_cell_guid": "898059dd-5d3b-4da0-883c-e1d06c6af902",
        "trusted": false,
        "collapsed": true
      },
      "cell_type": "code",
      "source": "#Checking Unique values from Embarked Column\nembarked_values = df.drop_duplicates('Embarked')\nprint(embarked_values['Embarked'])",
      "execution_count": null,
      "outputs": []
    },
    {
      "metadata": {
        "_uuid": "eac4eb14b78ea8a9093a74dc9bb408a168b3acea",
        "_cell_guid": "cff32943-1e7a-42d5-9404-fb263718f268",
        "collapsed": true,
        "trusted": false
      },
      "cell_type": "code",
      "source": "#Using mode to fulfill null values on Embarked Column\ndfT['Embarked'].fillna(dfT['Embarked'].mode()[0], inplace=True)\ndfTest['Embarked'].fillna(dfTest['Embarked'].mode()[0], inplace=True)",
      "execution_count": null,
      "outputs": []
    },
    {
      "metadata": {
        "_uuid": "11b92293874ae787bd9942ca7d36d34a3486f23c",
        "_cell_guid": "f9a8d644-9f72-4dbe-b4b4-df48294ea909",
        "trusted": false,
        "collapsed": true
      },
      "cell_type": "code",
      "source": "#Dummy(one-hot encoded values) to train dataset(columns Sex and Embarked)\ndfT = pd.concat([dfT.drop('Sex', axis=1), pd.get_dummies(dfT['Sex'])], axis=1)\ndfT = pd.concat([dfT.drop('Embarked', axis=1), pd.get_dummies(dfT['Embarked'])], axis=1)",
      "execution_count": null,
      "outputs": []
    },
    {
      "metadata": {
        "_uuid": "41603085566002b4a6e9022c4ec46d05bca8538e",
        "_cell_guid": "ba643b7c-22ea-42f7-9fc9-758c686b298d",
        "collapsed": true,
        "trusted": false
      },
      "cell_type": "code",
      "source": "#Dummy(one-hot encoded values) to test dataset(columns Sex and Embarked)\ndfTest = pd.concat([dfTest.drop('Sex', axis=1), pd.get_dummies(dfTest['Sex'])], axis=1)\ndfTest = pd.concat([dfTest.drop('Embarked', axis=1), pd.get_dummies(dfTest['Embarked'])], axis=1)",
      "execution_count": null,
      "outputs": []
    },
    {
      "metadata": {
        "_uuid": "ae4a199a3c5f5d777601de757e376ebb667b46d4",
        "_cell_guid": "0571fe67-ead1-449c-90cf-f1b9e0756636",
        "collapsed": true,
        "trusted": false
      },
      "cell_type": "code",
      "source": "#Using Mean to fulfill null values on Column Age\ndfT['Age'].fillna(dfT['Age'].mean(), inplace=True)\ndfTest['Age'].fillna(dfTest['Age'].mean(), inplace=True)",
      "execution_count": null,
      "outputs": []
    },
    {
      "metadata": {
        "_uuid": "02829a840a4969ba9c9e28afcb26bed749956d5a",
        "_cell_guid": "cc20e91e-0e8b-441d-8c46-56b4b0829170",
        "trusted": false,
        "collapsed": true
      },
      "cell_type": "code",
      "source": "dfT.head(5)",
      "execution_count": null,
      "outputs": []
    },
    {
      "metadata": {
        "_uuid": "63183080ab42c15d2ae72237e2ac3ff9794609f5",
        "_cell_guid": "15d3f313-5cc2-43e9-9514-b43487f35a16",
        "trusted": false,
        "collapsed": true
      },
      "cell_type": "code",
      "source": "dfTest.head(5)",
      "execution_count": null,
      "outputs": []
    },
    {
      "metadata": {
        "_uuid": "fa0c1ca0364c16a546d29949fbdeabd0c9cce5ec",
        "_cell_guid": "f41a41ad-29f8-445c-adb2-c6e2af80dc14",
        "trusted": false,
        "collapsed": true
      },
      "cell_type": "code",
      "source": "#Dataset Formatting\ndfT.shape",
      "execution_count": null,
      "outputs": []
    },
    {
      "metadata": {
        "_uuid": "3885f9494a707067757f87ba114b259a93ce70d9",
        "_cell_guid": "45e385e8-d2d8-4b7f-b0cc-88f677603649",
        "trusted": false,
        "collapsed": true
      },
      "cell_type": "code",
      "source": "dfTest.shape",
      "execution_count": null,
      "outputs": []
    },
    {
      "metadata": {
        "_uuid": "8856add1eda14dbf647d5269dab764f1d16b8e89",
        "_cell_guid": "9517474d-37b8-4c0a-bd83-c8cbf7b832ac",
        "trusted": false,
        "collapsed": true
      },
      "cell_type": "code",
      "source": "#Statistic Summary\ndfT.describe()",
      "execution_count": null,
      "outputs": []
    },
    {
      "metadata": {
        "_uuid": "769cbf8b7f211a7c1027f151181a32e1e4306530",
        "_cell_guid": "2490ee9c-a7a6-4d84-af0f-86689c330ca8",
        "trusted": false,
        "collapsed": true
      },
      "cell_type": "code",
      "source": "#Checking nulls on Dataframe\ndfT.isnull().any()",
      "execution_count": null,
      "outputs": []
    },
    {
      "metadata": {
        "_uuid": "d9c36d4b7d4885ea8cbca54ae962058f5364a0fd",
        "_cell_guid": "126bf376-c0a1-487f-a8e7-eb78db9e5849",
        "trusted": false,
        "collapsed": true
      },
      "cell_type": "code",
      "source": "dfTest.isnull().any()",
      "execution_count": null,
      "outputs": []
    },
    {
      "metadata": {
        "_uuid": "4ddbf12defb493892da02b33174cb71c9b2162af",
        "_cell_guid": "eed9d22f-efb5-491f-89d8-dfaa911cca9a",
        "collapsed": true,
        "trusted": false
      },
      "cell_type": "code",
      "source": "#Completing column Fare with 0 instead of Null\ndfTest['Fare'] = dfTest['Fare'].fillna(0)",
      "execution_count": null,
      "outputs": []
    },
    {
      "metadata": {
        "_uuid": "63c216dbf59c8ec512bcbdc61e7302a915e8b8e5",
        "_cell_guid": "31fe9f3f-c522-4d11-adf2-69a15d84d0f5"
      },
      "cell_type": "markdown",
      "source": "All columns with the same qtd of data"
    },
    {
      "metadata": {
        "_uuid": "9a0a20c375dd8b1705af93066cf0de3622089fbf",
        "_cell_guid": "85293abb-43b0-40ad-8c0c-5201fab06f78"
      },
      "cell_type": "markdown",
      "source": "### Data Visualization..."
    },
    {
      "metadata": {
        "_uuid": "37686970c3ff9e4dec698a28c0c855830a2aaaf2",
        "_cell_guid": "88194180-6c26-44c5-bdfe-a427805bf380",
        "collapsed": true,
        "trusted": false
      },
      "cell_type": "code",
      "source": "#Visualization libs\n#import seaborn as sns\nimport matplotlib.pyplot as plt\n%matplotlib inline",
      "execution_count": null,
      "outputs": []
    },
    {
      "metadata": {
        "_uuid": "cfc6f86c1c59e2be9995f975a3922eb2ccd1a15f",
        "_cell_guid": "31e6b2c8-e6f6-41b7-8b2f-aa1953f60848",
        "trusted": false,
        "collapsed": true
      },
      "cell_type": "code",
      "source": "# Histogram\ndfT.hist()\nplt.show()",
      "execution_count": null,
      "outputs": []
    },
    {
      "metadata": {
        "_uuid": "51d19a56066f6e31c3246a064d11ed528b168f32",
        "_cell_guid": "8f0252eb-afe2-4faa-929b-c7594369baee",
        "trusted": false,
        "collapsed": true
      },
      "cell_type": "code",
      "source": "# Correlation Matrix with names\ncolumns = ['pID', 'surviv', 'pclass','age', 'sibsp', 'parch', 'fare', 'female','male','C','Q','S']\ncorrelations = dfT.corr()\nprint (correlations)",
      "execution_count": null,
      "outputs": []
    },
    {
      "metadata": {
        "_uuid": "821f67059ebfcbb0543d9dd1af9938cd8499c24d",
        "_cell_guid": "8af0e101-9918-47c3-b9fb-ae9b7d104839",
        "trusted": false,
        "collapsed": true
      },
      "cell_type": "code",
      "source": "# Plot\n#import numpy as np\nfig = plt.figure()\nax = fig.add_subplot(111)\nax.set_color_cycle(['red', 'black', 'yellow'])\ncax = ax.matshow(correlations, interpolation='nearest', vmin = -1, vmax = 1)\nfig.colorbar(cax)\nticks = np.arange(0, 12, 1)\nax.set_xticks(ticks)\nax.set_yticks(ticks)\nax.set_xticklabels(columns)\nax.set_yticklabels(columns)\nplt.show()",
      "execution_count": null,
      "outputs": []
    },
    {
      "metadata": {
        "_uuid": "551d5897d754b9f555f55b69fd78d4fb7f030c6a",
        "_cell_guid": "21f4ca56-8d32-4acd-8f99-c9ab4a74fc5f"
      },
      "cell_type": "markdown",
      "source": "Sibsp and Parch have high correlation\n - Sibsp =\t# of siblings / spouses\n - Parch = # of parents / children\n\nCreate one new column adding Sibsp and Parch"
    },
    {
      "metadata": {
        "_uuid": "bb76d13449cacee663b7f88a14b8cab85aaa0bb3",
        "_cell_guid": "446cda49-fd04-43b2-af5a-6b056e20dcb3",
        "collapsed": true,
        "trusted": false
      },
      "cell_type": "code",
      "source": "#Adding columns SibSp and Parch => FamilySize\ndfT['FamilySize'] = dfT['SibSp'] + dfT['Parch'] + 1\ndfTest['FamilySize'] = dfTest['SibSp'] + dfTest['Parch'] + 1",
      "execution_count": null,
      "outputs": []
    },
    {
      "metadata": {
        "_uuid": "f102426889205c0259849305e443c2f267068fa0",
        "_cell_guid": "13e6aeb6-f39f-45f3-9f15-66c299d76d35",
        "trusted": false,
        "collapsed": true
      },
      "cell_type": "code",
      "source": "dfT.shape",
      "execution_count": null,
      "outputs": []
    },
    {
      "metadata": {
        "_uuid": "ae6276d3997e66eeec1a385641117aa9f1b974dd",
        "_cell_guid": "c110d2eb-dbb1-4f5f-8903-f35128bf80cc",
        "collapsed": true,
        "trusted": false
      },
      "cell_type": "code",
      "source": "#new_columns = ['pID', 'surviv', 'pclass', 'sex','age', 'Fam', 'fare', 'Emb']\nnew_columns = ['pID', 'surviv', 'pclass','age', 'Sib Sp','Fam', 'fare', 'female','male','C','Q','S']",
      "execution_count": null,
      "outputs": []
    },
    {
      "metadata": {
        "_uuid": "b453cb8652aadc15af10dedb515403bf038f23e6",
        "_cell_guid": "bb11dde4-a10f-49eb-b487-1dd10964c81f",
        "trusted": false,
        "collapsed": true
      },
      "cell_type": "code",
      "source": "# New Plot\nfig = plt.figure()\nax = fig.add_subplot(111)\nax.set_color_cycle(['red', 'black', 'yellow'])\ncax = ax.matshow(correlations, interpolation='nearest', vmin = -1, vmax = 1)\nfig.colorbar(cax)\nticks = np.arange(0, 12, 1)\nax.set_xticks(ticks)\nax.set_yticks(ticks)\nax.set_xticklabels(new_columns)\nax.set_yticklabels(new_columns)\nplt.show()",
      "execution_count": null,
      "outputs": []
    },
    {
      "metadata": {
        "_uuid": "0c06357224617e795f32446dbc78eadbea73d135",
        "_cell_guid": "7c91d78f-c3fc-4ae4-8dd2-95c6b309f8b6"
      },
      "cell_type": "markdown",
      "source": "Qtd of family members have influence on fare.\nLocal have influence on fare.\n\nLocal seems to have influence on survival.\nFare seems to have influence on survival.\n      "
    },
    {
      "metadata": {
        "_uuid": "494d3bfcf5df6f097e79ff36053820a9c93661b3",
        "_cell_guid": "4425564b-05eb-4a0b-b324-3b1e29dddf94",
        "collapsed": true,
        "trusted": false
      },
      "cell_type": "code",
      "source": "#Visualizing data with seaborn\nimport seaborn as sns",
      "execution_count": null,
      "outputs": []
    },
    {
      "metadata": {
        "_uuid": "3da983a7dff0a25d58977ad2a900e7c21cf11c64",
        "_cell_guid": "a97fcb34-2e10-47d6-91ce-f86b778411fa",
        "trusted": false,
        "collapsed": true
      },
      "cell_type": "code",
      "source": "#Dropping name columns (Name, Cabin and Ticket) from Dataframe\ndfT = dfT.drop(['Name','Cabin','Ticket'],axis=1)\ndfTest = dfTest.drop(['Name','Cabin','Ticket'],axis=1)",
      "execution_count": null,
      "outputs": []
    },
    {
      "metadata": {
        "_uuid": "005a3e837ba582011996c78cf8512f1f7e945ed5",
        "_cell_guid": "b0bf75aa-0d6c-4a42-81f6-7225b1c7ec5b",
        "trusted": false,
        "collapsed": true
      },
      "cell_type": "code",
      "source": "dfT.dtypes",
      "execution_count": null,
      "outputs": []
    },
    {
      "metadata": {
        "_uuid": "93248f4c8df3aab8c665a9cdf29b588184239ff3",
        "_cell_guid": "a7cf204c-7d4b-4c2a-b08a-980ff5c48893",
        "trusted": false,
        "collapsed": true
      },
      "cell_type": "code",
      "source": "dfTest.dtypes",
      "execution_count": null,
      "outputs": []
    },
    {
      "metadata": {
        "_uuid": "32d28a3713260d8c08fcae4519d5d462fd22f6b2",
        "_cell_guid": "f42d339a-579a-4430-829d-0b5fb6fcdf89",
        "trusted": false,
        "collapsed": true
      },
      "cell_type": "code",
      "source": "# Pairplot   ====> Must have all columns without nulls\nsns.pairplot(dfT)  ",
      "execution_count": null,
      "outputs": []
    },
    {
      "metadata": {
        "_uuid": "a9c3de2a855290d9403f27dcd9bd91781415a9d2",
        "_cell_guid": "c00a1594-1ed0-44e1-b92f-64a9bc7412f9",
        "trusted": false,
        "collapsed": true
      },
      "cell_type": "code",
      "source": "# kdeplot\nsns.kdeplot(dfT)",
      "execution_count": null,
      "outputs": []
    },
    {
      "metadata": {
        "_uuid": "ccf3f34b33d88e2b1fab644af11eaa6b1f9b3224",
        "_cell_guid": "81677270-201c-4862-9558-20b152b4a02f",
        "trusted": false,
        "collapsed": true
      },
      "cell_type": "code",
      "source": "dfT.head(3)",
      "execution_count": null,
      "outputs": []
    },
    {
      "metadata": {
        "_uuid": "dd53c333a2d9306788ad64a63b197fd22891f8a0",
        "_cell_guid": "84ba2a35-af36-45f2-82a4-39840c53582b",
        "trusted": false,
        "collapsed": true
      },
      "cell_type": "code",
      "source": "dfT.shape",
      "execution_count": null,
      "outputs": []
    },
    {
      "metadata": {
        "_uuid": "7dd34a47c5d6c19cb7fe9eecd13fe8afe456f823",
        "_cell_guid": "c5b438b8-e386-4651-b120-f4f3c6b30abc"
      },
      "cell_type": "markdown",
      "source": "## Preparing data for Machine Learning"
    },
    {
      "metadata": {
        "_uuid": "b1ed841211425125d7716223b2129ddb739e07ad",
        "_cell_guid": "d90dd2a9-104d-4c38-bda2-c5008d117753",
        "trusted": false,
        "collapsed": true
      },
      "cell_type": "code",
      "source": "# Importing library\n#from pandas import read_csv\nfrom sklearn.preprocessing import MinMaxScaler\n\ncolTrain = ['PassengerId', 'Pclass', 'Age', 'Fare', 'female', 'male','C','Q','S' ,'FamilySize', 'Survived']\ndfMLTrain = dfT[colTrain]\narrayTrain = dfMLTrain.values\n\ncolTest = ['PassengerId', 'Pclass', 'Age', 'Fare', 'female', 'male','C','Q','S','FamilySize']\ndfMLTest = dfTest[colTest]\narrayTest = dfMLTest.values\n\n# Splitting array in input and output\nXTrain = arrayTrain[:,0:10] \nYTrain = arrayTrain[:,10] \nXTest = arrayTest[:,0:10] \n\n# Creating new scale\nscaler = MinMaxScaler(feature_range = (0, 1))\nrescaledXTrain = scaler.fit_transform(XTrain)\nrescaledXTest = scaler.fit_transform(XTest)\n\n# Data transformed\nprint(rescaledXTrain[0:5,:])",
      "execution_count": null,
      "outputs": []
    },
    {
      "metadata": {
        "_uuid": "cb19b521d2ba1e09fe5ebc4a7619432257c1cef2",
        "_cell_guid": "b46f52fb-652a-415b-8fbb-266105a018c1"
      },
      "cell_type": "markdown",
      "source": "### Feature Selection"
    },
    {
      "metadata": {
        "_uuid": "4b26df80234fafc46afdb657c12d2ff50b72379b",
        "_cell_guid": "756d7fb2-bf73-4028-84c2-a7e43c584dd1",
        "trusted": false,
        "collapsed": true
      },
      "cell_type": "code",
      "source": "# Feature Selection using chi2 test\n\n# Import modules\nfrom sklearn.feature_selection import SelectKBest\nfrom sklearn.feature_selection import chi2\n\n# Selecting the 5 better features that can be used in prediction model\ntest = SelectKBest(score_func = chi2, k = 5) \nfit = test.fit(XTrain, YTrain)\n\n# Summarizing score\nprint(fit.scores_)\nfeatures = fit.transform(XTrain)\n\n# Summarizing selected Features\nprint(features[0:5,:])",
      "execution_count": null,
      "outputs": []
    },
    {
      "metadata": {
        "_uuid": "1d7f55f73b377e1e1ebaca7cd9dc21bd1c1d0159",
        "_cell_guid": "1e53b483-9611-4f3a-96c4-282f3409e228"
      },
      "cell_type": "markdown",
      "source": "[  3.31293407e+00   3.08736994e+01   2.46879258e+01   4.51831909e+03\n   1.70348127e+02   9.27024470e+01   2.04644013e+01   1.08467891e-02\n   5.48920482e+00   3.36787042e-01]\n<br>\n['PassengerId', 'Pclass', 'Age', 'Fare', 'female', 'male','C','Q','S' ,'FamilySize'] <br>\n\nFeatures(Better to worst): male, S, Fare, FamilySize, PassengerId, Pclass, Age, C, female, Q "
    },
    {
      "metadata": {
        "_uuid": "795918fb4b80654b55f4db7aee6a3d6ca8b18db0",
        "_cell_guid": "91fa7518-6d19-43f2-95aa-009ad96f5f6c"
      },
      "cell_type": "markdown",
      "source": "### Selecting Prediction Model"
    },
    {
      "metadata": {
        "_uuid": "7dcbfac323008824e587a4cf12ed844f97af5a14",
        "_cell_guid": "cc426da7-e94b-45c0-bdab-74e58fdb8299",
        "trusted": false,
        "collapsed": true
      },
      "cell_type": "code",
      "source": "# Import modules\nfrom sklearn import model_selection\n#from sklearn import cross_validation\nfrom sklearn.linear_model import LogisticRegression\nfrom sklearn.tree import DecisionTreeClassifier\nfrom sklearn.neighbors import KNeighborsClassifier\nfrom sklearn.discriminant_analysis import LinearDiscriminantAnalysis\nfrom sklearn.naive_bayes import GaussianNB\nfrom sklearn.svm import SVC\nfrom sklearn.model_selection import GridSearchCV\nfrom sklearn.ensemble import GradientBoostingClassifier\nfrom sklearn.ensemble import ExtraTreesClassifier\nfrom sklearn.ensemble import RandomForestClassifier\nfrom sklearn.ensemble import AdaBoostClassifier\nfrom sklearn.ensemble import BaggingClassifier\nfrom sklearn.discriminant_analysis import QuadraticDiscriminantAnalysis\nfrom sklearn.gaussian_process import GaussianProcessClassifier\nfrom sklearn.neural_network import MLPClassifier\n\n# Defining number of folds\nnum_folds = 10\nnum_instances = len(XTrain)\nseed = 7\n\n# Preparing models\nmodelos = []\nmodelos.append(('LR', LogisticRegression()))\nmodelos.append(('LDA', LinearDiscriminantAnalysis()))\nmodelos.append(('NB', GaussianNB()))\nmodelos.append(('KNN', KNeighborsClassifier()))\nmodelos.append(('GBC', GradientBoostingClassifier()))\nmodelos.append(('ETC', ExtraTreesClassifier()))\nmodelos.append(('RFC', RandomForestClassifier()))\nmodelos.append(('DTC', DecisionTreeClassifier()))\nmodelos.append(('ABC', AdaBoostClassifier()))\nmodelos.append(('BGC', BaggingClassifier()))\nmodelos.append(('QDA', QuadraticDiscriminantAnalysis()))\nmodelos.append(('GPC', GaussianProcessClassifier()))\nmodelos.append(('SVC', SVC()))\nmodelos.append(('MLPC', MLPClassifier()))\n\n\n# Model Evaluation\nresultados = []\nnomes = []\n\nfor nome, modelo in modelos:\n    kfold = model_selection.KFold(n_splits = num_folds, random_state = seed)\n    cv_results = model_selection.cross_val_score(modelo, XTrain, YTrain, cv = kfold, scoring = 'accuracy')\n    resultados.append(cv_results)\n    nomes.append(nome)\n    msg = \"%s: %f (%f)\" % (nome, cv_results.mean(), cv_results.std())\n    print(msg)\n\n# Boxplot to compare algorithms\nfig = plt.figure()\nfig.suptitle('Comparison of Classification Algorithms')\nax = fig.add_subplot(111)\nplt.boxplot(resultados)\nax.set_xticklabels(nomes)\nplt.show()",
      "execution_count": null,
      "outputs": []
    },
    {
      "metadata": {
        "_uuid": "b49e0b744f21b843e7f2c7014f75707534381d5f",
        "_cell_guid": "5fde65a4-ab31-4144-8d9e-418d379847dc"
      },
      "cell_type": "markdown",
      "source": "GBC is the better algorithm in this case."
    },
    {
      "metadata": {
        "_uuid": "6e7d7f56aa62464b1ed0a9c12c0eb8c6a1661f66",
        "_cell_guid": "7223a7a1-ed2e-4f59-a409-9e783eb3b00a"
      },
      "cell_type": "markdown",
      "source": "## Using Linear Discriminant Analysis (LDA)"
    },
    {
      "metadata": {
        "_uuid": "71d46d5a033f960bd8842d6a2df69d22e0aff868",
        "_cell_guid": "d549afb7-a912-4e85-b752-146398e8feaa",
        "trusted": false,
        "collapsed": true
      },
      "cell_type": "code",
      "source": "# Creating LDA model \nfrom sklearn.discriminant_analysis import LinearDiscriminantAnalysis\nmodelLDA = LinearDiscriminantAnalysis()\n\n# Training model and checking the score\nmodelLDA.fit(XTrain, YTrain)\nmodelLDA.score(XTrain, YTrain)\n\n# Colecting coefficients\nprint('Coefficient: \\n', modelLDA.coef_)\nprint('Intercept: \\n', modelLDA.intercept_)\n\n# Predictions\nYPredLDA = modelLDA.predict(XTest)",
      "execution_count": null,
      "outputs": []
    },
    {
      "metadata": {
        "_uuid": "a0c16ca19624df5b002d4845d0140d708cc539b0",
        "_cell_guid": "fd8814b1-16cd-402b-ba83-22978de559bd",
        "trusted": false,
        "collapsed": true
      },
      "cell_type": "code",
      "source": "#Checking accuracy\nacc_log = round(modelLDA.score(XTrain, YTrain) * 100, 2)\nacc_log",
      "execution_count": null,
      "outputs": []
    },
    {
      "metadata": {
        "_uuid": "dff047300c27c063c3c7a3ac20eb7278b9c47ce5",
        "_cell_guid": "3f0a6698-49f8-4b52-9909-b0c5fff7d1aa"
      },
      "cell_type": "markdown",
      "source": "## Using Gaussian NB"
    },
    {
      "metadata": {
        "_uuid": "9cc4f1ee378daa048780c8bdaca0b9dcd71ba383",
        "_cell_guid": "76a8a93d-b493-4f77-a072-71cf95a3cb64",
        "trusted": false,
        "collapsed": true
      },
      "cell_type": "code",
      "source": "# Creating Gaussian NB model \nfrom sklearn.naive_bayes import GaussianNB\nmodelGNB = GaussianNB()\n\n# Training model and checking the score\nmodelGNB.fit(XTrain, YTrain)\nmodelGNB.score(XTrain, YTrain)\n\n# Predictions\nYPredGNB = modelGNB.predict(XTest)",
      "execution_count": null,
      "outputs": []
    },
    {
      "metadata": {
        "_uuid": "0ebe0398122cb93884ec9792d0acccc7ebda1f57",
        "_cell_guid": "a7950dfa-7c53-4d5e-8b30-fac9cdbed8f3",
        "trusted": false,
        "collapsed": true
      },
      "cell_type": "code",
      "source": "#Checking accuracy\nacc_log = round(modelGNB.score(XTrain, YTrain) * 100, 2)\nacc_log",
      "execution_count": null,
      "outputs": []
    },
    {
      "metadata": {
        "_uuid": "cd6a60c32305a9f830c1532599c5df3a3de97201",
        "_cell_guid": "54cc29e7-ae87-4fee-890a-abad740882ab"
      },
      "cell_type": "markdown",
      "source": "## Using Logistic Regression"
    },
    {
      "metadata": {
        "_uuid": "586ab917956497d183399e23dcbf0943cc9f9dce",
        "_cell_guid": "aae59a09-b8b8-45e7-96c2-428e2394df87",
        "trusted": false,
        "collapsed": true
      },
      "cell_type": "code",
      "source": "# Creating logistic regression model \nmodelLR = LogisticRegression()\n\n# Training model and checking the score\nmodelLR.fit(XTrain, YTrain)\nmodelLR.score(XTrain, YTrain)\n\n# Colecting coefficients\nprint('Coefficient: \\n', modelLR.coef_)\nprint('Intercept: \\n', modelLR.intercept_)\n\n# Predictions\nYPredLR = modelLR.predict(XTest)",
      "execution_count": null,
      "outputs": []
    },
    {
      "metadata": {
        "_uuid": "e9bd3dbcdb936ddddf0a2fe4c848d586bbb946cb",
        "_cell_guid": "6fdf1edd-6c1e-4377-a44d-a3b3538e43cf",
        "trusted": false,
        "collapsed": true
      },
      "cell_type": "code",
      "source": "#Checking accuracy\nacc_log = round(modelLR.score(XTrain, YTrain) * 100, 2)\nacc_log",
      "execution_count": null,
      "outputs": []
    },
    {
      "metadata": {
        "_uuid": "097bdf9a7355b49aae05373d3a2366348439af02",
        "_cell_guid": "a1b50a67-948e-477c-ab12-d8c39878603f"
      },
      "cell_type": "markdown",
      "source": "## Creating a Gradient Boost Classifier"
    },
    {
      "metadata": {
        "_uuid": "9eba50cd894487c445feddeab62bca3590a87ace",
        "_cell_guid": "5dc9b3e8-24d0-438f-8d86-ff9eee0afa9e",
        "trusted": false,
        "collapsed": true
      },
      "cell_type": "code",
      "source": "from sklearn.ensemble import GradientBoostingClassifier\nmodelGBC = GradientBoostingClassifier()\n\ngb_param_grid = {'loss' : [\"deviance\"],\n              'n_estimators' : [100,200,300],\n              'learning_rate': [0.1, 0.05, 0.01],\n              'max_depth': [4, 8],\n              'min_samples_leaf': [100,150],\n              'max_features': [0.3, 0.1] \n              }\n\n\ngsGBC = GridSearchCV(modelGBC,param_grid = gb_param_grid, cv=kfold, scoring=\"accuracy\", n_jobs= 4, verbose = 1)\n\ngsGBC.fit(XTrain,YTrain)\n\nGBC_best = gsGBC.best_estimator_\n\n# Best score\ngsGBC.best_score_\n\n# Predictions\nYPredGBC=gsGBC.predict(XTest)",
      "execution_count": null,
      "outputs": []
    },
    {
      "metadata": {
        "_uuid": "07fb42a382a4b133fb4266eedd4bf5e4c0025261",
        "_cell_guid": "24ff3a72-26aa-46c7-ba70-4e0927fce13a",
        "trusted": false,
        "collapsed": true
      },
      "cell_type": "code",
      "source": "#Checking accuracy\nacc_log = round(gsGBC.score(XTrain,YTrain) * 100, 2)\nacc_log",
      "execution_count": null,
      "outputs": []
    },
    {
      "metadata": {
        "_uuid": "3142d4e7166e3a9e84249002e45c54eee2d8cad1",
        "_cell_guid": "93fa749d-00c7-4215-8ecb-25b0faa06dc5"
      },
      "cell_type": "markdown",
      "source": "## Creating an Extra Tree Classifier"
    },
    {
      "metadata": {
        "_uuid": "19024ac03c952d77768bcb173e0daa8bf9212cba",
        "_cell_guid": "57170fd2-59d6-4ac7-adf5-2761f61628af",
        "trusted": false,
        "collapsed": true
      },
      "cell_type": "code",
      "source": "from sklearn.ensemble import ExtraTreesClassifier\n\nmodelETC = ExtraTreesClassifier(n_estimators=100, criterion='gini', max_depth=None, min_samples_split=2, random_state=0)\n\n\n# Training model and checking the score\nmodelETC.fit(XTrain, YTrain)\nmodelETC.score(XTrain,YTrain)\n\n\n# Predictions\nYPredETC=modelETC.predict(XTest)",
      "execution_count": null,
      "outputs": []
    },
    {
      "metadata": {
        "_uuid": "4e07e99d4b9bd910070398a8cd42cddcda569fad",
        "_cell_guid": "7a793a63-9b98-49f5-9f50-8a8ef53cb54f",
        "trusted": false,
        "collapsed": true
      },
      "cell_type": "code",
      "source": "#Checking accuracy\nacc_log = round(modelETC.score(XTrain,YTrain) * 100, 2)\nacc_log",
      "execution_count": null,
      "outputs": []
    },
    {
      "metadata": {
        "_uuid": "bec20a7ed23aa1411787a64e8940b9b0e828eb0f",
        "_cell_guid": "512f4041-3646-4bac-9921-7f1b508b9123",
        "collapsed": true
      },
      "cell_type": "markdown",
      "source": "## Creating a Random Forest Classifier"
    },
    {
      "metadata": {
        "_uuid": "cc1d78b0c05cc2745b375e610b3050a4816f1a74",
        "_cell_guid": "941a73dc-43f9-4bce-8f1f-2bde7a888810",
        "trusted": false,
        "collapsed": true
      },
      "cell_type": "code",
      "source": "from sklearn.ensemble import RandomForestClassifier\n\nmodelRFC = RandomForestClassifier()\n\nrf_param_grid = {\"max_depth\": [None],\n              \"max_features\": [1, 3, 10],\n              \"min_samples_split\": [2, 3, 10],\n              \"min_samples_leaf\": [1, 3, 10],\n              \"bootstrap\": [False],\n              \"n_estimators\" :[100,300],\n              \"criterion\": [\"gini\"]}\n\ngsRFC = GridSearchCV(modelRFC,param_grid = rf_param_grid, cv=kfold, scoring=\"accuracy\", n_jobs= 3, verbose = 1)\n\ngsRFC.fit(XTrain, YTrain)\nRFC_best = gsRFC.best_estimator_\ngsRFC.best_score_\n\n# Predictions\nYPredRFC=gsRFC.predict(XTest)",
      "execution_count": null,
      "outputs": []
    },
    {
      "metadata": {
        "_uuid": "90d70dfff66257e4932cd3cee0cc50ab953ab91d",
        "_cell_guid": "fabae4a2-b581-46c6-85b5-04ad91962bf1",
        "trusted": false,
        "collapsed": true
      },
      "cell_type": "code",
      "source": "#Checking accuracy\nacc_log = round(gsRFC.score(XTrain,YTrain) * 100, 2)\nacc_log",
      "execution_count": null,
      "outputs": []
    },
    {
      "metadata": {
        "_uuid": "67a95d5d1099133405be5fa97223fc562132764a",
        "_cell_guid": "20d2c969-37fc-438c-80c0-4025a988a108"
      },
      "cell_type": "markdown",
      "source": "## Creating a Decision Tree Classifier(Adaboost)"
    },
    {
      "metadata": {
        "_uuid": "bd956fe1de235961a0a167badc77f92f7961bb79",
        "_cell_guid": "144d83c7-fb6f-493e-861c-776bcb0f946c",
        "trusted": false,
        "collapsed": true
      },
      "cell_type": "code",
      "source": "from sklearn.tree import DecisionTreeClassifier\nfrom sklearn.ensemble import AdaBoostClassifier\n\n\nDTC = DecisionTreeClassifier()\n\nadaDTC = AdaBoostClassifier(DTC, random_state=7)\nada_param_grid = {\"base_estimator__criterion\" : [\"gini\", \"entropy\"],\n              \"base_estimator__splitter\" :   [\"best\", \"random\"],\n              \"algorithm\" : [\"SAMME\",\"SAMME.R\"],\n              \"n_estimators\" :[1,2],\n              \"learning_rate\":  [0.0001, 0.001, 0.01, 0.1, 0.2, 0.3,1.5]}\n\n\n# Training model and checking the score\n\nmodelDTC = GridSearchCV(adaDTC,param_grid = ada_param_grid, cv=kfold, scoring=\"accuracy\", n_jobs= 4, verbose = 1)\n\nmodelDTC.fit(XTrain,YTrain)\nmodelDTC.score(XTrain,YTrain)\n\n# Predictions\nYPredDTC=modelDTC.predict(XTest)\n\n",
      "execution_count": null,
      "outputs": []
    },
    {
      "metadata": {
        "_uuid": "a590d9000bcbf2694a04ae1c63ae9446bd0cde67",
        "_cell_guid": "ae6814a8-5ba4-4686-90a2-1e3b584a371e",
        "trusted": false,
        "collapsed": true
      },
      "cell_type": "code",
      "source": "#Checking accuracy\nacc_log = round(modelDTC.score(XTrain,YTrain) * 100, 2)\nacc_log",
      "execution_count": null,
      "outputs": []
    },
    {
      "metadata": {
        "_uuid": "ce69d9b1529a81d414dd19950c4ee50d6c038c13",
        "_cell_guid": "b0236c17-84e8-40a7-b9b8-0a75d82bc267",
        "collapsed": true,
        "trusted": false
      },
      "cell_type": "code",
      "source": "#Bagging\n\nfrom sklearn.ensemble import BaggingClassifier\n\n# Training model and checking the score\nmodelBgC = BaggingClassifier(base_estimator=None, n_estimators=10, max_samples=1.0, max_features=1.0, \n                  bootstrap=True, bootstrap_features=False, oob_score=False, warm_start=False, n_jobs=1, \n                  random_state=None, verbose=0)\n\nmodelBgC.fit(XTrain, YTrain)\n\n# Predictions\nYPredBgC=modelBgC.predict(XTest)",
      "execution_count": null,
      "outputs": []
    },
    {
      "metadata": {
        "_uuid": "11aeabcd34a4b7eb13c441e140425e800b8bc4bc",
        "_cell_guid": "ef664642-6a58-41c6-a5a1-ae6e30a63487",
        "trusted": false,
        "collapsed": true
      },
      "cell_type": "code",
      "source": "#Checking accuracy\nacc_log = round(modelBgC.score(XTrain,YTrain) * 100, 2)\nacc_log",
      "execution_count": null,
      "outputs": []
    },
    {
      "metadata": {
        "_uuid": "4ef24aa6328a9e875c5513e4d70ef695d34cef7b",
        "_cell_guid": "1efb91e0-8ea1-41b9-806c-289b7d1ac8a2"
      },
      "cell_type": "markdown",
      "source": "## Combining Models(Ensemble)"
    },
    {
      "metadata": {
        "_uuid": "ed37214c3aedf612946052f85d247514c6faa7ae",
        "_cell_guid": "bddf39ac-0728-45a8-862f-4c8bb1615455",
        "trusted": false,
        "collapsed": true
      },
      "cell_type": "code",
      "source": "#Voting\nfrom sklearn.ensemble import VotingClassifier\n\n# Training model and checking the score\nmodelVotC = VotingClassifier(estimators=[('gbc',modelGBC),('rfc',gsRFC),('bgc',modelBgC),('lda',modelLDA),('lr',modelLR),('etc',modelETC),('nb',modelGNB)], voting='hard', n_jobs=3)\nmodelVotC.fit(XTrain, YTrain)\n\n# Predictions\nYPredVC=modelVotC.predict(XTest)",
      "execution_count": null,
      "outputs": []
    },
    {
      "metadata": {
        "_uuid": "1048379cb9752dc109925deda084a0d5c82e1106",
        "_cell_guid": "0d506235-0c47-4bfd-a271-30fa68bff34d",
        "trusted": false,
        "collapsed": true
      },
      "cell_type": "code",
      "source": "#Checking accuracy\nacc_log = round(modelVotC.score(XTrain,YTrain) * 100, 2)\nacc_log",
      "execution_count": null,
      "outputs": []
    },
    {
      "metadata": {
        "_uuid": "dfc5f8978e2702ddc69b0353b5a10027b0118a5e",
        "_cell_guid": "7df94ce9-a122-4634-a6c4-bdc5529417f2",
        "trusted": false,
        "collapsed": true
      },
      "cell_type": "code",
      "source": "#Prediction Results\n#survived = YPredLR.astype(int)\n#survived = YPredLDA.astype(int)\n#survived = YPredGNB.astype(int)\n#survived = YPredGBC.astype(int)\n#survived = YPredRFC.astype(int)\n#survived = YPredDTC.astype(int)\n#survived = YPredVC.astype(int)\n#survived = YPredBgC.astype(int)",
      "execution_count": null,
      "outputs": []
    },
    {
      "metadata": {
        "_uuid": "67894f504dca4d1994a9b60b0f8ceb723c204689",
        "_cell_guid": "c39e5af4-5387-4cd0-bb3f-f4b2f677a66b",
        "trusted": false,
        "collapsed": true
      },
      "cell_type": "code",
      "source": "#Creating Submission file\nsubmission = pd.DataFrame({\n        \"PassengerId\": dfTest[\"PassengerId\"],\n        \"Survived\": survived\n    })\n\n#submission.to_csv('../output/submission.csv', index=False)",
      "execution_count": null,
      "outputs": []
    }
  ],
  "metadata": {
    "kernelspec": {
      "display_name": "Python 3",
      "language": "python",
      "name": "python3"
    },
    "language_info": {
      "version": "3.6.3",
      "name": "python",
      "codemirror_mode": {
        "version": 3,
        "name": "ipython"
      },
      "pygments_lexer": "ipython3",
      "mimetype": "text/x-python",
      "nbconvert_exporter": "python",
      "file_extension": ".py"
    },
    "anaconda-cloud": {}
  },
  "nbformat": 4,
  "nbformat_minor": 1
}
